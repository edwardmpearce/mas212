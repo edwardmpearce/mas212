{
 "cells": [
  {
   "cell_type": "markdown",
   "metadata": {},
   "source": [
    "# Coding exercises"
   ]
  },
  {
   "cell_type": "markdown",
   "metadata": {},
   "source": [
    "## Iteration"
   ]
  },
  {
   "cell_type": "markdown",
   "metadata": {},
   "source": [
    "Compute $\\sqrt{2}$ using the recurrence relation\n",
    "\n",
    "$$a_{n+1} = \\frac{1}{2}(a_{n} + 2/a_{n})$$\n",
    "\n",
    "where $a_{0}=1$. Now use the `decimal` module to compute $\\sqrt{2}$ to 100 decimal places (https://docs.python.org/3/library/decimal.html). How many iterations are needed?\n",
    "\n",
    "Recall the proof of convergence of this sequence to the limit $\\sqrt{2}$ from your first year mathematical analysis course by applying the algebra of limits."
   ]
  },
  {
   "cell_type": "code",
   "execution_count": 1,
   "metadata": {},
   "outputs": [
    {
     "name": "stdout",
     "output_type": "stream",
     "text": [
      "Number of iterations required to compute sqrt(2) to 101 decimal places: 8\n",
      "Calculated value (prec = 102):\n",
      " 1.41421356237309504880168872420969807856967187537694807317667973799073247846210703885038753432764157274\n",
      "True value (prec = 102):\n",
      " 1.41421356237309504880168872420969807856967187537694807317667973799073247846210703885038753432764157274\n",
      "Calculated value (rounded to 100 dp):\n",
      " 1.4142135623730950488016887242096980785696718753769480731766797379907324784621070388503875343276415727\n",
      "True value (rounded to 100 dp):\n",
      " 1.4142135623730950488016887242096980785696718753769480731766797379907324784621070388503875343276415727\n"
     ]
    }
   ],
   "source": [
    "import decimal\n",
    "decimal.getcontext().prec = 102\n",
    "decimal.getcontext().traps[decimal.FloatOperation] = True\n",
    "\n",
    "# Set up our Decimal instances\n",
    "two = decimal.Decimal('2')\n",
    "one_half = decimal.Decimal('0.5')\n",
    "sqrt_two = two.sqrt()\n",
    "value = decimal.Decimal('1')\n",
    "\n",
    "# Compute the sequence defined by the recurrence relation until either it matches sqrt(2) to the required precision\n",
    "# or\n",
    "index = 0\n",
    "while value != sqrt_two:\n",
    "    new_value = one_half * (value + (two / value))\n",
    "    if new_value == value:\n",
    "        print('Sequence stabilised to 101 decimal places')\n",
    "        break\n",
    "    else:\n",
    "        value = new_value\n",
    "        index += 1\n",
    "print('Number of iterations required to compute sqrt(2) to 101 decimal places:', index)\n",
    "print('Calculated value (prec = 102):\\n', value)\n",
    "print('True value (prec = 102):\\n', sqrt_two)\n",
    "print('Calculated value (rounded to 100 dp):\\n', round(value, 100))\n",
    "print('True value (rounded to 100 dp):\\n', round(sqrt_two, 100))"
   ]
  },
  {
   "cell_type": "markdown",
   "metadata": {},
   "source": [
    "## Pisano periods"
   ]
  },
  {
   "cell_type": "markdown",
   "metadata": {},
   "source": [
    "Write a function to compute the Fibonacci sequence. Now modify the function to compute the Fibonacci sequence modulo $N$, using the `%` operator to find the remainder upon division.\n",
    "\n",
    "For example, modulo $N=4$ the sequence $0,1,1,2,3,5,8,13,21,34,55,89,\\ldots$ becomes $0,1,1,2,3,1,0,1,1,2,3,1,\\ldots$\n",
    "Can you see a repeating sequence here?\n",
    "\n",
    "Write a function to compute the Pisano period $\\pi(N)$: the length of the repeating sequence of Fibonacci numbers modulo $N$ (e.g. $\\pi(4)=6$). What is $\\pi(N = 144)$?\n",
    "\n",
    "Read more at http://en.wikipedia.org/wiki/Pisano_period"
   ]
  },
  {
   "cell_type": "code",
   "execution_count": 2,
   "metadata": {},
   "outputs": [
    {
     "name": "stdout",
     "output_type": "stream",
     "text": [
      "Fibonacci sequence:\n",
      "[0, 1, 1, 2, 3, 5, 8, 13, 21, 34, 55, 89, 144, 233, 377, 610, 987, 1597, 2584, 4181, 6765, 10946, 17711, 28657, 46368]\n",
      "modulo 144:\n",
      "[0, 1, 1, 2, 3, 5, 8, 13, 21, 34, 55, 89, 0, 89, 89, 34, 123, 13, 136, 5, 141, 2, 143, 1, 0]\n",
      "Pisano period pi(144) = 24\n",
      "\n"
     ]
    }
   ],
   "source": [
    "def fib_seq(length):\n",
    "    sequence = [0, 1]\n",
    "    if length <= 2:\n",
    "        return sequence\n",
    "    else:\n",
    "        for i in range(length-2):\n",
    "            sequence.append(sequence[-2] + sequence[-1])\n",
    "    return sequence\n",
    "\n",
    "def fib_seq_mod(length, modulus):\n",
    "    return [value % modulus for value in fib_seq(length)]\n",
    "\n",
    "def pisano_period(modulus):\n",
    "    if modulus == 1:\n",
    "        return 1\n",
    "    sequence = [0, 1, 1]\n",
    "    counter = 2\n",
    "    while (sequence[-2], sequence[-1]) != (1, 0):\n",
    "        sequence.append((sequence[-2] + sequence[-1]) % modulus)\n",
    "        counter += 1\n",
    "    assert counter == len(sequence) - 1\n",
    "    return counter, sequence\n",
    "\n",
    "def pisano_period_results(modulus):\n",
    "    results = pisano_period(modulus)\n",
    "    results_string = \"\"\"Fibonacci sequence:\n",
    "{fib_seq}\n",
    "modulo {modulus}:\n",
    "{fib_seq_mod}\n",
    "Pisano period pi({modulus}) = {period}\n",
    "\"\"\".format(fib_seq=fib_seq(length=results[0] + 1),\n",
    "           modulus=modulus,\n",
    "           fib_seq_mod=results[1],\n",
    "           period=results[0])\n",
    "    return results_string\n",
    "\n",
    "# for modulus in range(2, 6):\n",
    "#     print(pisano_period_results(modulus))\n",
    "print(pisano_period_results(144))"
   ]
  },
  {
   "cell_type": "markdown",
   "metadata": {},
   "source": [
    "## Newton-Raphson method"
   ]
  },
  {
   "cell_type": "markdown",
   "metadata": {},
   "source": [
    "Using the `cmath` module for complex numbers (https://docs.python.org/3/library/cmath.html), and the Newton-Raphson method\n",
    "\n",
    "$$z_{n+1} = z_{n} - \\frac{f(z_{n})}{f'(z_{n})}$$\n",
    "\n",
    "find the three complex roots of the cubic $f(z) = z^{3} - 1$. Try choosing the initial value $z_{0}$ close to $0$ in the complex plane. Which root does the method converge upon?\n",
    "\n",
    "Recall that the roots are \n",
    "$$ 1, e^{i(2\\pi/3)} = -\\frac{1}{2} + \\frac{\\sqrt{3}}{2}, e^{i(4\\pi/3)} = -\\frac{1}{2} - \\frac{\\sqrt{3}}{2} $$\n",
    "\n",
    "For initial values $z_{0}$ close to $0$ the method tends to converge to the real root $z=1$.\n",
    "\n",
    "Read more at https://en.wikipedia.org/wiki/Newton%27s_method#Complex_functions"
   ]
  },
  {
   "cell_type": "code",
   "execution_count": 3,
   "metadata": {},
   "outputs": [
    {
     "name": "stdout",
     "output_type": "stream",
     "text": [
      "Converged to the root with phase 1*(2*pi/3) after 6 iterations.\n"
     ]
    },
    {
     "data": {
      "text/plain": [
       "(-0.5+0.8660254037844386j)"
      ]
     },
     "execution_count": 3,
     "metadata": {},
     "output_type": "execute_result"
    }
   ],
   "source": [
    "import cmath\n",
    "\n",
    "def newton_raphson(value):\n",
    "    iter_count = 0\n",
    "    while value not in (complex(1.0), complex(-0.5, cmath.sqrt(3)/2), complex(-0.5, -cmath.sqrt(3)/2)):\n",
    "        value = value - (value ** 3 - 1) / (3 * value ** 2)\n",
    "        iter_count += 1\n",
    "        if iter_count == 1000:\n",
    "            print('Gave up after', iter_count, 'iterations.')\n",
    "            return value\n",
    "    print('Converged to the root with phase {}*(2*pi/3) after {} iterations.'.format(round(cmath.phase(value)/(2*cmath.pi/3)), \n",
    "                                                                                     iter_count))\n",
    "    return value\n",
    "\n",
    "newton_raphson(complex(-1, 1))"
   ]
  },
  {
   "cell_type": "markdown",
   "metadata": {},
   "source": [
    "# Fracking in Lancashire"
   ]
  },
  {
   "cell_type": "markdown",
   "metadata": {},
   "source": [
    "In August 2019, hydraulic fracturing (fracking) operations were undertaken at the Preston New Road site in Lancashire. Hydraulic fracturing involves the high-pressure injection of fluid at a depth of ∼ 1.8 km, and typically generates seismic events. The majority of such seismic events are rather weak, with a Local Magnitude (ML) below 0.5 ML. \n",
    "\n",
    "At 08:30am on 26th August 2019, a 2.9 ML tremor was recorded by the British Geological Survey (BGS). This event was reportedly felt by some residents of Blackpool, 4 miles from the site, as a loud tremor lasting for 10–15 seconds. Fracking was subsequently suspended at the site.\n",
    "\n",
    "Seismic events in the last 50 days are recorded by the British Geological Survey (BGS), and separated into [Induced Seismicity](http://www.earthquakes.bgs.ac.uk/induced/recent_uk_events.html) and background tectonic [Earthquakes](http://www.earthquakes.bgs.ac.uk/earthquakes/recent_uk_events.html).\n",
    "\n",
    "We use the BGS data to produce a histogram plot of the number of induced seismic events by local magnitude."
   ]
  },
  {
   "cell_type": "markdown",
   "metadata": {},
   "source": [
    "## Import the data"
   ]
  },
  {
   "cell_type": "code",
   "execution_count": 4,
   "metadata": {},
   "outputs": [],
   "source": [
    "import pandas as pd\n",
    "%matplotlib inline\n",
    "# Get the latest data from the website today, or read from a local file of data extracted on 2019-10-01\n",
    "url = 'http://www.earthquakes.bgs.ac.uk/induced/recent_uk_events.html'\n",
    "df = pd.read_html(url, header=0)[0]\n",
    "# df = pd.read_csv(r\"data/induced_seismic_events_50days_20191001.csv\")"
   ]
  },
  {
   "cell_type": "markdown",
   "metadata": {},
   "source": [
    "## Plot the results"
   ]
  },
  {
   "cell_type": "code",
   "execution_count": 5,
   "metadata": {},
   "outputs": [
    {
     "data": {
      "image/png": "[encoded data removed]",
      "text/plain": [
       "<Figure size 432x288 with 1 Axes>"
      ]
     },
     "metadata": {},
     "output_type": "display_data"
    }
   ],
   "source": [
    "ax = df.Mag.plot.hist(bins=50)\n",
    "ax.set(xlabel='Local Magnitude (ML)',\n",
    "      title='Number of induced seismic events around the British Isles by local magnitude in the past 50 days');"
   ]
  },
  {
   "cell_type": "code",
   "execution_count": null,
   "metadata": {},
   "outputs": [],
   "source": []
  }
 ],
 "metadata": {
  "kernelspec": {
   "display_name": "Python 3",
   "language": "python",
   "name": "python3"
  },
  "language_info": {
   "codemirror_mode": {
    "name": "ipython",
    "version": 3
   },
   "file_extension": ".py",
   "mimetype": "text/x-python",
   "name": "python",
   "nbconvert_exporter": "python",
   "pygments_lexer": "ipython3",
   "version": "3.6.2"
  },
  "toc": {
   "base_numbering": 1,
   "nav_menu": {},
   "number_sections": true,
   "sideBar": true,
   "skip_h1_title": false,
   "title_cell": "Table of Contents",
   "title_sidebar": "Contents",
   "toc_cell": false,
   "toc_position": {},
   "toc_section_display": true,
   "toc_window_display": false
  },
  "varInspector": {
   "cols": {
    "lenName": 16,
    "lenType": 16,
    "lenVar": 40
   },
   "kernels_config": {
    "python": {
     "delete_cmd_postfix": "",
     "delete_cmd_prefix": "del ",
     "library": "var_list.py",
     "varRefreshCmd": "print(var_dic_list())"
    },
    "r": {
     "delete_cmd_postfix": ") ",
     "delete_cmd_prefix": "rm(",
     "library": "var_list.r",
     "varRefreshCmd": "cat(var_dic_list()) "
    }
   },
   "types_to_exclude": [
    "module",
    "function",
    "builtin_function_or_method",
    "instance",
    "_Feature"
   ],
   "window_display": false
  }
 },
 "nbformat": 4,
 "nbformat_minor": 2
}

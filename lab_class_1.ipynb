{
 "cells": [
  {
   "cell_type": "markdown",
   "metadata": {},
   "source": [
    "# Coding exercises"
   ]
  },
  {
   "cell_type": "markdown",
   "metadata": {},
   "source": [
    "## Iteration"
   ]
  },
  {
   "cell_type": "markdown",
   "metadata": {},
   "source": [
    "Compute $\\sqrt{2}$ using the recurrence relation\n",
    "\n",
    "$$a_{n+1} = \\frac{1}{2}(a_{n} + 2/a_{n})$$\n",
    "\n",
    "where $a_{0}=1$. Now use the `decimal` module to compute $\\sqrt{2}$ to 100 decimal places ([Python documentation]). How many iterations are needed?\n",
    "\n",
    "Recall the proof of convergence of this sequence to the limit $\\sqrt{2}$ from your first year mathematical analysis course, first by showing the sequence is decreasing when $a_{n}>\\sqrt{2}$ and applying the [AM-GM inequality] to show that the sequence is bounded below by $\\sqrt{2}$ and (thus) decreasing for all but possibly the first iteration to prove convergence, and secondly by applying the algebra of limits to reason that the limit is necessarily the positive square root of two.\n",
    "\n",
    "In fact, this is an application of the [Babylonian method] for finding square roots (also known as Heron's method, after the first-century Greek mathematician Hero of Alexandria who gave the first explicit description of the method in his AD 60 work _Metrica_), which itself can be seen as a special case of the [Newton-Raphson method] applied to the function $f(x)=x^{2}-2$. Newton's method was developed 16 centuries after Heron's method.\n",
    "\n",
    "[Python documentation]: https://docs.python.org/3/library/decimal.html\n",
    "[AM-GM inequality]: https://en.wikipedia.org/wiki/Inequality_of_arithmetic_and_geometric_means\n",
    "[Babylonian method]: https://en.wikipedia.org/wiki/Methods_of_computing_square_roots#Babylonian_method\n",
    "[Newton-Raphson method]: https://en.wikipedia.org/wiki/Newton%27s_method#Square_root_of_a_number"
   ]
  },
  {
   "cell_type": "code",
   "execution_count": 1,
   "metadata": {},
   "outputs": [
    {
     "name": "stdout",
     "output_type": "stream",
     "text": [
      "Number of iterations required to compute sqrt(2) to 101 decimal places: 8\n",
      "Calculated value (prec = 102):\n",
      " 1.41421356237309504880168872420969807856967187537694807317667973799073247846210703885038753432764157274\n",
      "True value (prec = 102):\n",
      " 1.41421356237309504880168872420969807856967187537694807317667973799073247846210703885038753432764157274\n",
      "Calculated value (rounded to 100 dp):\n",
      " 1.4142135623730950488016887242096980785696718753769480731766797379907324784621070388503875343276415727\n",
      "True value (rounded to 100 dp):\n",
      " 1.4142135623730950488016887242096980785696718753769480731766797379907324784621070388503875343276415727\n"
     ]
    }
   ],
   "source": [
    "import decimal\n",
    "decimal.getcontext().prec = 102\n",
    "decimal.getcontext().traps[decimal.FloatOperation] = True\n",
    "\n",
    "# Set up our Decimal instances\n",
    "two = decimal.Decimal('2')\n",
    "one_half = decimal.Decimal('0.5')\n",
    "sqrt_two = two.sqrt()\n",
    "value = decimal.Decimal('1')\n",
    "\n",
    "# Compute the sequence defined by the recurrence relation until either it matches sqrt(2) to the required precision\n",
    "# or\n",
    "index = 0\n",
    "while value != sqrt_two:\n",
    "    new_value = one_half * (value + (two / value))\n",
    "    if new_value == value:\n",
    "        print('Sequence stabilised to 101 decimal places')\n",
    "        break\n",
    "    else:\n",
    "        value = new_value\n",
    "        index += 1\n",
    "print('Number of iterations required to compute sqrt(2) to 101 decimal places:', index)\n",
    "print('Calculated value (prec = 102):\\n', value)\n",
    "print('True value (prec = 102):\\n', sqrt_two)\n",
    "print('Calculated value (rounded to 100 dp):\\n', round(value, 100))\n",
    "print('True value (rounded to 100 dp):\\n', round(sqrt_two, 100))"
   ]
  },
  {
   "cell_type": "markdown",
   "metadata": {},
   "source": [
    "## Pisano periods"
   ]
  },
  {
   "cell_type": "markdown",
   "metadata": {},
   "source": [
    "Write a function to compute the Fibonacci sequence. Now modify the function to compute the Fibonacci sequence modulo $N$, using the `%` operator to find the remainder upon division.\n",
    "\n",
    "For example, modulo $N=4$ the sequence $0,1,1,2,3,5,8,13,21,34,55,89,\\ldots$ becomes $0,1,1,2,3,1,0,1,1,2,3,1,\\ldots$\n",
    "Can you see a repeating sequence here?\n",
    "\n",
    "Write a function to compute the Pisano period $\\pi(N)$: the length of the repeating sequence of Fibonacci numbers modulo $N$ (e.g. $\\pi(4)=6$). What is $\\pi(N = 144)$?\n",
    "\n",
    "Read more at http://en.wikipedia.org/wiki/Pisano_period"
   ]
  },
  {
   "cell_type": "code",
   "execution_count": 2,
   "metadata": {},
   "outputs": [],
   "source": [
    "# Function definitions\n",
    "def fib_seq(length):\n",
    "    sequence = [0, 1]\n",
    "    if length <= 2:\n",
    "        return sequence\n",
    "    else:\n",
    "        for i in range(length-2):\n",
    "            sequence.append(sequence[-2] + sequence[-1])\n",
    "    return sequence\n",
    "\n",
    "def fib_seq_mod(length, modulus):\n",
    "    return [value % modulus for value in fib_seq(length)]\n",
    "\n",
    "def pisano_period(modulus):\n",
    "    if modulus == 1:\n",
    "        return 1\n",
    "    sequence = [0, 1, 1]\n",
    "    counter = 2\n",
    "    while (sequence[-2], sequence[-1]) != (1, 0):\n",
    "        sequence.append((sequence[-2] + sequence[-1]) % modulus)\n",
    "        counter += 1\n",
    "    assert counter == len(sequence) - 1\n",
    "    return counter, sequence\n",
    "\n",
    "def pisano_period_results(modulus):\n",
    "    results = pisano_period(modulus)\n",
    "    results_string = \"\"\"Fibonacci sequence:\n",
    "{fib_seq}\n",
    "modulo {modulus}:\n",
    "{fib_seq_mod}\n",
    "Pisano period pi({modulus}) = {period}\n",
    "\"\"\".format(fib_seq=fib_seq(length=results[0] + 1),\n",
    "           modulus=modulus,\n",
    "           fib_seq_mod=results[1],\n",
    "           period=results[0])\n",
    "    return results_string"
   ]
  },
  {
   "cell_type": "code",
   "execution_count": 3,
   "metadata": {},
   "outputs": [
    {
     "name": "stdout",
     "output_type": "stream",
     "text": [
      "Fibonacci sequence:\n",
      "[0, 1, 1, 2, 3, 5, 8, 13, 21, 34, 55, 89, 144, 233, 377, 610, 987, 1597, 2584, 4181, 6765, 10946, 17711, 28657, 46368]\n",
      "modulo 144:\n",
      "[0, 1, 1, 2, 3, 5, 8, 13, 21, 34, 55, 89, 0, 89, 89, 34, 123, 13, 136, 5, 141, 2, 143, 1, 0]\n",
      "Pisano period pi(144) = 24\n",
      "\n"
     ]
    }
   ],
   "source": [
    "# for modulus in range(2, 6):\n",
    "#     print(pisano_period_results(modulus))\n",
    "print(pisano_period_results(144))"
   ]
  },
  {
   "cell_type": "markdown",
   "metadata": {},
   "source": [
    "## Newton-Raphson method"
   ]
  },
  {
   "cell_type": "markdown",
   "metadata": {},
   "source": [
    "Using the `cmath` module for complex numbers (https://docs.python.org/3/library/cmath.html), and the Newton-Raphson method\n",
    "\n",
    "$$z_{n+1} = z_{n} - \\frac{f(z_{n})}{f'(z_{n})}$$\n",
    "\n",
    "find the three complex roots of the cubic $f(z) = z^{3} - 1$. Try choosing the initial value $z_{0}$ close to $0$ in the complex plane. Which root does the method converge upon?\n",
    "\n",
    "Recall that the roots are \n",
    "$$ 1, e^{i(2\\pi/3)} = -\\frac{1}{2} + \\frac{\\sqrt{3}}{2}i, e^{i(4\\pi/3)} = -\\frac{1}{2} - \\frac{\\sqrt{3}}{2}i $$\n",
    "\n",
    "For initial values $z_{0}$ close to $0$ the method tends to converge to the real root $z=1$.\n",
    "\n",
    "Read more at https://en.wikipedia.org/wiki/Newton%27s_method#Complex_functions"
   ]
  },
  {
   "cell_type": "code",
   "execution_count": 4,
   "metadata": {},
   "outputs": [
    {
     "name": "stdout",
     "output_type": "stream",
     "text": [
      "Converged to the root with phase 1*(2*pi/3) after 6 iterations.\n"
     ]
    },
    {
     "data": {
      "text/plain": [
       "(-0.5+0.8660254037844386j)"
      ]
     },
     "execution_count": 4,
     "metadata": {},
     "output_type": "execute_result"
    }
   ],
   "source": [
    "import cmath\n",
    "\n",
    "def newton_raphson(value, max_steps=1000):\n",
    "    for iter_count in range(max_steps):\n",
    "        if value in {complex(1.0), complex(-0.5, cmath.sqrt(3)/2), complex(-0.5, -cmath.sqrt(3)/2)}:\n",
    "            break\n",
    "        else:\n",
    "            value = value - (value ** 3 - 1) / (3 * value ** 2)\n",
    "            \n",
    "    if iter_count == max_steps - 1:\n",
    "        print('Gave up after', max_steps, 'iterations.')\n",
    "    else:\n",
    "        print('Converged to the root with phase {}*(2*pi/3) after {} iterations.'.format(round(cmath.phase(value)/(2*cmath.pi/3)),\n",
    "                                                                                         iter_count))\n",
    "    return value\n",
    "\n",
    "newton_raphson(complex(-1, 1))"
   ]
  },
  {
   "cell_type": "markdown",
   "metadata": {},
   "source": [
    "# Fracking in Lancashire"
   ]
  },
  {
   "cell_type": "markdown",
   "metadata": {},
   "source": [
    "In August 2019, hydraulic fracturing (fracking) operations were undertaken at the Preston New Road site in Lancashire. Hydraulic fracturing involves the high-pressure injection of fluid at a depth of ∼ 1.8 km, and typically generates seismic events. The majority of such seismic events are rather weak, with a Local Magnitude (ML) below 0.5 ML. \n",
    "\n",
    "At 08:30am on 26th August 2019, a 2.9 ML tremor was recorded by the British Geological Survey (BGS). This event was reportedly felt by some residents of Blackpool, 4 miles from the site, as a loud tremor lasting for 10–15 seconds. Fracking was subsequently suspended at the site.\n",
    "\n",
    "Seismic events in the last 50 days are recorded by the British Geological Survey (BGS), and separated into [Induced Seismicity](http://www.earthquakes.bgs.ac.uk/induced/recent_uk_events.html) and background tectonic [Earthquakes](http://www.earthquakes.bgs.ac.uk/earthquakes/recent_uk_events.html).\n",
    "\n",
    "We use the BGS data to produce a histogram plot of the number of induced seismic events by local magnitude."
   ]
  },
  {
   "cell_type": "markdown",
   "metadata": {},
   "source": [
    "## Import the data"
   ]
  },
  {
   "cell_type": "code",
   "execution_count": 5,
   "metadata": {},
   "outputs": [],
   "source": [
    "import pandas as pd\n",
    "%matplotlib inline\n",
    "\n",
    "# Get the latest data from the website today, or read from a local file of data extracted on 2019-10-01\n",
    "url = 'http://www.earthquakes.bgs.ac.uk/induced/recent_uk_events.html'\n",
    "df = pd.read_html(url, header=0)[0]\n",
    "# df = pd.read_csv(r\"data/induced_seismic_events_50days_20191001.csv\")"
   ]
  },
  {
   "cell_type": "markdown",
   "metadata": {},
   "source": [
    "## Plot the results"
   ]
  },
  {
   "cell_type": "code",
   "execution_count": 6,
   "metadata": {},
   "outputs": [
    {
     "data": {
      "image/png": "[encoded data removed]",
      "text/plain": [
       "<Figure size 432x288 with 1 Axes>"
      ]
     },
     "metadata": {},
     "output_type": "display_data"
    }
   ],
   "source": [
    "ax = df.Mag.plot.hist(bins=50)\n",
    "ax.set(xlabel='Local Magnitude (ML)',\n",
    "       title='Number of induced seismic events around the British Isles by local magnitude in the past 50 days');"
   ]
  },
  {
   "cell_type": "markdown",
   "metadata": {},
   "source": [
    "# The Newton-Raphson method and fractals"
   ]
  },
  {
   "cell_type": "markdown",
   "metadata": {},
   "source": [
    "The _Newton-Raphson (NR) method_ is an iterative method for finding roots of differentiable functions. \n",
    "(Recall that $\\bar{x}$ is a root of a function $f$ iff $f(\\bar{x}))=0$.)\n",
    "\n",
    "Starting with an initial value $x_{0}$, the NR method generates a sequence $x_{0}, x_{1}, x_{2}, x_{3}, \\ldots$\n",
    "by repeated application of an iterative step:\n",
    "\n",
    "$$x_{i+1} = x_{i} - \\frac{f(x_{i})}{f'(x_{i})}$$\n",
    "\n",
    "The limit of the sequence, if it exists, is a root of $f(x)$.\n",
    "\n",
    "In practice, we say the method converges if $|x_{i+1} − x_{i}| < \\epsilon$ for some $i < i_{\\max}$, where $\\epsilon$ is a suitably small positive constant greater than machine precision and $i_{\\max}$ is the maximum\n",
    "number of iterations. (For example, $\\epsilon = 10^{−12}$ and $i_{\\max} = 20$.)\n",
    "\n",
    "We will use the Newton-Raphson method to find the roots of nonlinear functions such as $Axe^{−x} − 1$ and $z^{3} − 1$."
   ]
  },
  {
   "cell_type": "markdown",
   "metadata": {},
   "source": [
    "## Newton-Raphson method"
   ]
  },
  {
   "cell_type": "markdown",
   "metadata": {},
   "source": [
    "### Implementing the NR method as a Python function"
   ]
  },
  {
   "cell_type": "markdown",
   "metadata": {},
   "source": [
    "Let $f_{A}(x) = Axe^{−x} − 1$ where $A$ is a real parameter ($A\\in\\mathbb{R}$). Then $f_{A}'(x) = A(1-x)e^{−x}$."
   ]
  },
  {
   "cell_type": "code",
   "execution_count": 7,
   "metadata": {},
   "outputs": [],
   "source": [
    "# Module imports\n",
    "import numpy as np\n",
    "import matplotlib.pyplot as plt\n",
    "%matplotlib inline\n",
    "\n",
    "# Function definitions\n",
    "def make_f_A(A):\n",
    "    r\"\"\"Returns the mathematical function f_{A}(x) = A*x*exp(−x) − 1 for the input value of A.\"\"\"\n",
    "    return lambda x: A*x*np.exp(-x) - 1\n",
    "\n",
    "def make_f_Aprime(A):\n",
    "    r\"\"\"Returns the mathematical function f_{A}'(x) = A*(1-x)*exp(−x) for the input value of A.\n",
    "    The returned function is the derivative of the function f_A defined above for the same input value of A.\"\"\"\n",
    "    return lambda x: A*(1-x)*np.exp(-x)\n",
    "\n",
    "def NRmethod(f, fprime, x0, max_steps=20, tol=1e-12):\n",
    "    r\"\"\"Seeks a root of a function by applying the Newton-Raphson step repeatedly to generate a sequence of estimates.\n",
    "\n",
    "    The method should stop once either of two conditions is met:\n",
    "      (i) The absolute difference between successive estimates is less than `tol` \n",
    "          (indicating that the sequence has converged sufficiently)\n",
    "      (ii) The number of steps exceeds `max_steps`\n",
    "\n",
    "    Parameters\n",
    "    ----------\n",
    "    f : callable function\n",
    "        The function that returns f(x)\n",
    "    fprime : callable function\n",
    "        The function that returns f'(x)\n",
    "    x0 : float\n",
    "        The initial value which seeds the Newton-Raphson method\n",
    "    max_steps : int, optional.  Defaults to 20\n",
    "        The maximum number of iteration steps to take before returning. \n",
    "    tol : float, optional.  Defaults to 1e-12\n",
    "        If two successive estimates have absolute difference less than or equal to the tolerance, we return\n",
    "\n",
    "    Returns\n",
    "    -------\n",
    "    list\n",
    "        The function should return a list of the sequence of estimates, [x0, x1, x2, ...]\n",
    "    \"\"\"\n",
    "    estimates = [x0]\n",
    "    while len(estimates) <= max_steps:\n",
    "        # Compute a new estimate using the Newton-Raphson method\n",
    "        estimates.append(\n",
    "            estimates[-1] - f(estimates[-1]) / fprime(estimates[-1]))\n",
    "        # Check whether the difference between the new value and previous value is less than the tolerance\n",
    "        if np.abs(estimates[-1] - estimates[-2]) < tol:\n",
    "            break\n",
    "    return estimates\n",
    "\n",
    "def NRmethod_results(f, fprime, x0, max_steps=20, tol=1e-12):\n",
    "    xseq = NRmethod(f, fprime, x0, max_steps, tol)\n",
    "    results_string = \"\"\"With starting value x0 = {0:.3f} the NR method converged after {1} iterations to: \n",
    "{2:.10f}\"\"\".format(x0, len(xseq)-1, xseq[-1])\n",
    "    return results_string"
   ]
  },
  {
   "cell_type": "markdown",
   "metadata": {},
   "source": [
    "### Newton-Raphson method to find roots of the function $Axe^{−x} − 1$ where $A = 3$"
   ]
  },
  {
   "cell_type": "code",
   "execution_count": 8,
   "metadata": {},
   "outputs": [
    {
     "name": "stdout",
     "output_type": "stream",
     "text": [
      "Newton-Raphson method to find roots of the function A*x*exp(−x) − 1 where A = 3.0\n",
      "With starting value x0 = 0.000 the NR method converged after 7 iterations to: \n",
      "0.6190612867\n",
      "With starting value x0 = 2.000 the NR method converged after 5 iterations to: \n",
      "1.5121345517\n"
     ]
    },
    {
     "data": {
      "image/png": "[encoded data removed]",
      "text/plain": [
       "<Figure size 432x288 with 1 Axes>"
      ]
     },
     "metadata": {},
     "output_type": "display_data"
    }
   ],
   "source": [
    "# Produce nicely-formatted output.\n",
    "f3, f3prime = make_f_A(A=3), make_f_Aprime(A=3)\n",
    "print(\"Newton-Raphson method to find roots of the function A*x*exp(−x) − 1 where A = 3.0\")\n",
    "for x0 in [0.0, 2.0]:\n",
    "    print(NRmethod_results(f3, f3prime, x0))\n",
    "\n",
    "# Plot the graphs of Ax and exp(x). Where these graphs meet give the roots for our function.\n",
    "fig = plt.figure()\n",
    "ax = fig.gca()\n",
    "\n",
    "x = np.linspace(-1, 2, endpoint=True)\n",
    "# ax.hlines(0, -1, 2)\n",
    "ax.plot(x, 3*x, label=r\"$y=3x$\")\n",
    "ax.plot(x, np.exp(x), label=r\"$y=\\exp(x)$\")\n",
    "# ax.plot(x, f3(x), label=r\"$y=3xe^{−x} − 1$\")\n",
    "ax.plot([0.6190612867, 1.5121345517], [3*0.6190612867, 3*1.5121345517], 'ko')\n",
    "ax.set(xlabel=\"x\", ylabel=\"y\", title=r\"Finding roots of $3xe^{−x} − 1$\")\n",
    "ax.legend()\n",
    "plt.show()"
   ]
  },
  {
   "cell_type": "markdown",
   "metadata": {},
   "source": [
    "### A failure mode for the NR method"
   ]
  },
  {
   "cell_type": "markdown",
   "metadata": {},
   "source": [
    "The Newton-Raphson method fails if $f'(x_{i})=0$ for some $i$, since we cannot compute the iteration step to find $x_{i+1}$ due to a divide-by-zero error. \n",
    "\n",
    "Therefore, the NR method fails to find/converge to a root of $f_{A}(x) = Axe^{−x} − 1$ for the starting value $x_{0}=1$, since $f_{A}'(1) = 0$, $\\forall A\\in\\mathbb{R}$."
   ]
  },
  {
   "cell_type": "code",
   "execution_count": 9,
   "metadata": {},
   "outputs": [
    {
     "name": "stdout",
     "output_type": "stream",
     "text": [
      "With starting value x0 = 1.000 the NR method converged after 20 iterations to: \n",
      "nan\n"
     ]
    },
    {
     "name": "stderr",
     "output_type": "stream",
     "text": [
      "C:\\Users\\Edward\\Miniconda3\\envs\\idp\\lib\\site-packages\\ipykernel_launcher.py:48: RuntimeWarning: divide by zero encountered in double_scalars\n",
      "C:\\Users\\Edward\\Miniconda3\\envs\\idp\\lib\\site-packages\\ipykernel_launcher.py:48: RuntimeWarning: invalid value encountered in double_scalars\n"
     ]
    }
   ],
   "source": [
    "print(NRmethod_results(f3, f3prime, 1.0))"
   ]
  },
  {
   "cell_type": "markdown",
   "metadata": {},
   "source": [
    "### Number of real roots to $f_{A}(x) = Axe^{−x} − 1$"
   ]
  },
  {
   "cell_type": "markdown",
   "metadata": {},
   "source": [
    "The number of real roots of $f_{A}(x)$ depends on the value of $A\\in\\mathbb{R}$. Let $e = \\exp(1)$, then\n",
    "\n",
    "- For $A < 0$ there is one real root $\\bar{x} < 0$;\n",
    "- For $0 \\le A < e$ there are no real roots;\n",
    "- For $A = e$ there is one real root at $x=1$; \n",
    "- For $A > e$ there are two real roots: $0 < \\bar{x}_{1} < 1 < \\bar{x}_{2}$\n",
    "\n",
    "This can be seen by rearranging the equation $f_{A}(x) = Axe^{−x} − 1 = 0$, to obtain the equation $Ax = e^{x}$ and plotting the graphs for various values of $A$."
   ]
  },
  {
   "cell_type": "code",
   "execution_count": 10,
   "metadata": {},
   "outputs": [
    {
     "data": {
      "image/png": "[encoded data removed]",
      "text/plain": [
       "<Figure size 720x576 with 1 Axes>"
      ]
     },
     "metadata": {},
     "output_type": "display_data"
    }
   ],
   "source": [
    "# Plot the graphs of Ax and exp(x). Where (if) these graphs meet give the roots for our function.\n",
    "A_list = [-1.0, 1.0, np.exp(1), 3.0]\n",
    "fig = plt.figure(figsize=(10, 8))\n",
    "ax = fig.gca()\n",
    "\n",
    "x = np.linspace(-1, 2, endpoint=True)\n",
    "# Plot the x-axis\n",
    "ax.hlines(0, -1, 2)\n",
    "# Plot y = exp(x)\n",
    "ax.plot(x, np.exp(x), label=r\"$y=\\exp(x)$\")\n",
    "# Plot the lines y = Ax for the values in our A_list\n",
    "for A in A_list:\n",
    "    ax.plot(x, A*x, label=r\"$y={}x$\".format(int(A) if A != np.exp(1) else 'e'))\n",
    "#     ax.plot(x, make_f_A(A)(x))\n",
    "# Plot some relevant intersection points\n",
    "ax.plot([-0.5671432904, 0.6190612867, 1, 1.5121345517],\n",
    "        [0.5671432904, 3*0.6190612867, np.exp(1), 3*1.5121345517], 'ko')\n",
    "# Add axis labels and figure title\n",
    "ax.set(xlabel=\"x\", ylabel=\"y\", title=r\"Real roots of $Axe^{−x} − 1$\")\n",
    "# Show the legend\n",
    "ax.legend()\n",
    "# Display the plot\n",
    "plt.show()"
   ]
  },
  {
   "cell_type": "markdown",
   "metadata": {},
   "source": [
    "### The interesting case of $A=e$"
   ]
  },
  {
   "cell_type": "markdown",
   "metadata": {},
   "source": [
    "In the case $A=e$ our function becomes $f_{e}(x) = xe^{1−x} − 1$, which has one real root at $x=1$, and first derivative $f_{e}'(x) = (1-x)e^{1−x}$, which also has one real root at $x=1$.\n",
    "\n",
    "Due to the vanishing of the first derivative at the root, Newton's method [converges only linearly](https://en.wikipedia.org/wiki/Newton%27s_method#Slow_convergence_for_roots_of_multiplicity_greater_than_1) where it would otherwise usually converge [quadratically](https://en.wikipedia.org/wiki/Newton%27s_method#Non-quadratic_convergence). In general this hold for roots of multiplicity greater than one and some other cases.\n",
    "\n",
    "The output of the code below shows that the error decreases with each iteration with a linear scaling factor approaching 0.5, which is to say that the error roughly halves after each iteration."
   ]
  },
  {
   "cell_type": "code",
   "execution_count": 11,
   "metadata": {},
   "outputs": [
    {
     "name": "stdout",
     "output_type": "stream",
     "text": [
      " n |   Estimate: x_n    |   Error: 1 - x_n   |   Scaling factor   |\n",
      " 0 | 0.0000000000000000 | 1.0000000000000000 | 1.0000000000000000 |\n",
      " 1 | 0.3678794411714423 | 0.6321205588285577 | 0.6321205588285577 |\n",
      " 2 | 0.6266657785725334 | 0.3733342214274666 | 0.5906060421754477 |\n",
      " 3 | 0.7921189369171096 | 0.2078810630828904 | 0.5568229515313230 |\n",
      " 4 | 0.8892163186672999 | 0.1107836813327001 | 0.5329185818552710 |\n",
      " 5 | 0.9426180750300879 | 0.0573819249699121 | 0.5179636953712121 |\n",
      " 6 | 0.9707680396642888 | 0.0292319603357112 | 0.5094280185099888 |\n",
      " 7 | 0.9852426366480260 | 0.0147573633519740 | 0.5048365960576945 |\n",
      " 8 | 0.9925851552115363 | 0.0074148447884637 | 0.5024505131176996 |\n",
      " 9 | 0.9962834312462214 | 0.0037165687537786 | 0.5012335200274146 |\n",
      "10 | 0.9981394156133517 | 0.0018605843866483 | 0.5006188530096863 |\n",
      "11 | 0.9990691311126290 | 0.0009308688873710 | 0.5003099531797879 |\n",
      "12 | 0.9995344211704803 | 0.0004655788295197 | 0.5001551086690472 |\n",
      "13 | 0.9997671744620802 | 0.0002328255379198 | 0.5000775876343014 |\n",
      "14 | 0.9998835781973993 | 0.0001164218026007 | 0.5000388000427963 |\n",
      "15 | 0.9999417868397855 | 0.0000582131602145 | 0.5000194028443200 |\n",
      "16 | 0.9999708928556473 | 0.0000291071443527 | 0.5000096927468991 |\n",
      "17 | 0.9999854462901524 | 0.0000145537098476 | 0.5000047298100291 |\n",
      "18 | 0.9999927231188479 | 0.0000072768811521 | 0.5000018021726135 |\n",
      "19 | 0.9999963615770712 | 0.0000036384229288 | 0.4999975748927800 |\n",
      "20 | 0.9999981808063689 | 0.0000018191936311 | 0.4999950986055607 |\n"
     ]
    }
   ],
   "source": [
    "results = NRmethod(make_f_A(np.exp(1)), make_f_Aprime(np.exp(1)), 0)\n",
    "error_ratios = [(1-results[i])/(1-results[i-1]) if i !=\n",
    "                0 else 1 for i in range(len(results))]\n",
    "print(\"{0:>2} | {1:^18} | {2:^18} | {3:^18} |\".format(\n",
    "    \"n\", \"Estimate: x_n\", \"Error: 1 - x_n\", \"Scaling factor\"))\n",
    "for index, pair in enumerate(zip(results, error_ratios)):\n",
    "    print(\"{0:2d} | {1:.16f} | {2:.16f} | {3:.16f} |\".format(\n",
    "        index, pair[0], 1 - pair[0], pair[1]))"
   ]
  },
  {
   "cell_type": "markdown",
   "metadata": {},
   "source": [
    "## Cubic roots of unity and fractals"
   ]
  },
  {
   "cell_type": "markdown",
   "metadata": {},
   "source": [
    "The equation $z^{3}=1$ has three solutions in the complex numbers $\\mathbb{C}$, which correspond to the roots of the complex function $f(z)=z^{3}-1$. These are:\n",
    "\n",
    "$$ z_{1}^{\\ast} = 1, z_{2}^{\\ast} = e^{i(2\\pi/3)} = \\frac{1}{2}\\big(-1 + \\sqrt{3}i\\big), z_{3}^{\\ast} = e^{i(4\\pi/3)} = \\frac{1}{2}\\big(-1 -\\sqrt{3}i\\big) $$\n",
    "\n",
    "Following a line of questioning first considered by Sir Arthur Cayley in 1879, we study the convergence (or otherwise) of the Newton-Raphson method applied to the complex function $f(z)=z^{3}-1$, in particular considering for which initial values $z_{0}$ the NR method succeeds, and, in this case, to which root it converges."
   ]
  },
  {
   "cell_type": "markdown",
   "metadata": {},
   "source": [
    "### A failure mode for the NR method"
   ]
  },
  {
   "cell_type": "markdown",
   "metadata": {},
   "source": [
    "The Newton-Raphson method fails if $f'(z_{i})=0$ for some $i$, since we cannot compute the iteration step to find $z_{i+1}$ due to a divide-by-zero error.\n",
    "\n",
    "As $f'(z)=3z^{2}$, the NR method fails to find/converge to a root if $z_{i}=0$ for some $i$. \n",
    "\n",
    "Using the iterative formula, we find that solutions to the equation \n",
    "\n",
    "$$ 0 = z_{i} - \\frac{z_{i}^{3}-1}{3z_{i}^{2}} = \\frac{2z_{i}^{3} + 1}{3z_{i}^{2}} $$\n",
    "\n",
    "also yield values of $z_{i}$ for which the NR method will fail, since they lead to $z_{i+1}=0$ (and then dividing by zero at the iteration step to compute $z_{i+2}$). \n",
    "\n",
    "More generally, if $\\omega$ is an initial value for which the NR method fails to find a root of $f(z)=z^{3}-1$, then taking any of the solutions of the equation \n",
    "\n",
    "$$\\omega = \\frac{2z^{3} + 1}{3z^{2}}$$\n",
    "\n",
    "as initial values will also cause the NR method to fail.\n",
    "\n",
    "This equation can be rearranged to reframe the problem as searching for roots of the cubic polynomial \n",
    "$2z^{3} - 3\\omega z^{2} + 1=0$.\n",
    "\n",
    "It follows that for every failure point $\\omega$ there are an additional 3 'offspring' failure points obtained as the solutions of the above equation, which themselves each have 3 offspring points, and so on."
   ]
  },
  {
   "cell_type": "markdown",
   "metadata": {},
   "source": [
    "### Finding initial values leading to NR method failure, using the NR method"
   ]
  },
  {
   "cell_type": "markdown",
   "metadata": {},
   "source": [
    "We apply the Newton-Raphson method to a different function to numerically compute the 3 offspring failure points of $z_{0}=0$. These are the solutions to $2z^{3} + 1 = 0$, which are \n",
    "\n",
    "$$ -\\frac{1}{\\sqrt[3]{2}}, \\frac{1}{\\sqrt[3]{2}}e^{i(\\pi/3)} = \\frac{1}{2\\sqrt[3]{2}}\\big(1 + \\sqrt{3}i\\big), \\frac{1}{\\sqrt[3]{2}}e^{-i(\\pi/3)} = \\frac{1}{2\\sqrt[3]{2}}\\big(1 - \\sqrt{3}i\\big) $$"
   ]
  },
  {
   "cell_type": "code",
   "execution_count": 12,
   "metadata": {},
   "outputs": [
    {
     "name": "stdout",
     "output_type": "stream",
     "text": [
      "Newton-Raphson method to find roots of the complex function 2*z^3 + 1\n",
      "With starting value x0 = 1.000+1.000j the NR method converged after 7 iterations to: \n",
      "0.3968502630+0.6873648185j\n",
      "With starting value x0 = 1.000-1.000j the NR method converged after 7 iterations to: \n",
      "0.3968502630-0.6873648185j\n",
      "With starting value x0 = -0.793-0.001j the NR method converged after 4 iterations to: \n",
      "-0.7937005260-0.0000000000j\n"
     ]
    }
   ],
   "source": [
    "import numpy as np\n",
    "\n",
    "print(\"Newton-Raphson method to find roots of the complex function 2*z^3 + 1\")\n",
    "for z0 in [complex(1, 1), complex(1, -1), complex(-np.cbrt(0.5) + 0.001, -0.001)]:\n",
    "    print(NRmethod_results(lambda z: 2 * z**3 + 1, lambda z: 6 * z**2, z0))"
   ]
  },
  {
   "cell_type": "markdown",
   "metadata": {},
   "source": [
    "The below code verifies that with these starting points, the Newton-Raphson method fails to converge to roots of $z^3 - 1 = 0$."
   ]
  },
  {
   "cell_type": "code",
   "execution_count": 13,
   "metadata": {},
   "outputs": [
    {
     "name": "stdout",
     "output_type": "stream",
     "text": [
      "The NR method failed to find roots of the complex function z^3 − 1 starting from initial value 0.39685+0.68736j\n",
      "The NR method failed to find roots of the complex function z^3 − 1 starting from initial value 0.39685-0.68736j\n",
      "With starting value x0 = -0.794+0.000j the NR method converged after 20 iterations to: \n",
      "4574626393545973043021479936.0000000000+0.0000000000j\n"
     ]
    }
   ],
   "source": [
    "for z0 in [complex(1, 1), complex(1, -1), complex(-np.cbrt(0.5))]:\n",
    "    w0 = NRmethod(lambda z: 2 * z**3 + 1, lambda z: 6 * z**2, z0)[-1]\n",
    "    try:\n",
    "        print(NRmethod_results(lambda z: z**3 - 1, lambda z: 3 * z**2, w0))\n",
    "    except ZeroDivisionError:\n",
    "        print(\n",
    "            \"The NR method failed to find roots of the complex function z^3 − 1 starting from initial value {:.5f}\".format(w0))"
   ]
  },
  {
   "cell_type": "markdown",
   "metadata": {},
   "source": [
    "### Calculating cubic roots of unity numerically using the Newton-Raphson method"
   ]
  },
  {
   "cell_type": "code",
   "execution_count": 14,
   "metadata": {},
   "outputs": [
    {
     "name": "stdout",
     "output_type": "stream",
     "text": [
      "Newton-Raphson method to find roots of the complex function z^3 − 1\n",
      "With starting value x0 = 0.020+0.000j the NR method converged after 23 iterations to: \n",
      "1.0000000000+0.0000000000j\n",
      "With starting value x0 = 0.000+0.020j the NR method converged after 24 iterations to: \n",
      "1.0000000000+0.0000000000j\n",
      "With starting value x0 = -0.010-0.010j the NR method converged after 25 iterations to: \n",
      "-0.5000000000-0.8660254038j\n",
      "With starting value x0 = -0.793-0.001j the NR method converged after 34 iterations to: \n",
      "-0.5000000000+0.8660254038j\n"
     ]
    }
   ],
   "source": [
    "import numpy as np\n",
    "\n",
    "print(\"Newton-Raphson method to find roots of the complex function z^3 − 1\")\n",
    "for z0 in [complex(0.02), complex(0, 0.02), complex(-0.01, -0.01), complex(-np.cbrt(0.5) + 0.001, -0.001)]:\n",
    "    print(NRmethod_results(lambda z: z**3 - 1,\n",
    "                           lambda z: 3 * z**2, z0, max_steps=50))"
   ]
  },
  {
   "cell_type": "markdown",
   "metadata": {},
   "source": [
    "### Basins of attraction and fractals"
   ]
  },
  {
   "cell_type": "markdown",
   "metadata": {},
   "source": [
    "The code below creates an image representing the basins of attraction of the three cubic roots of unity when applying the Newton-Raphson method to the function $f(z) = z^{3} - 1$.\n",
    "\n",
    "That is, for a finite lattice of evenly-spaced complex initial values bounded by the square domain $\\{z_{0}\\in\\mathbb{C}:\\Re(z_{0})\\in[-a,a], \\Im(z_{0})\\in[-a,a]\\}$, we colour each point by the cubic root of unity to which it converges, or use a fourth colour in the case that the NR method does not converge with a given inital value."
   ]
  },
  {
   "cell_type": "code",
   "execution_count": 15,
   "metadata": {},
   "outputs": [],
   "source": [
    "import numpy as np\n",
    "import cmath\n",
    "\n",
    "def NRmethod_array_plot(a=1.5, res=300, num_iter=50, tol=1e-12):\n",
    "    r\"\"\"Return an array describing the basins of attraction for the Newton-Raphson method to find cubic roots of unity.\n",
    "\n",
    "    We first create a finite lattice of evenly-spaced complex initial values bounded by the square domain defined by complex \n",
    "    numbers z such that -a < Re(z) < a, and -a < Im(z) < a, where the value of `a` can be chosen as an optional parameter.\n",
    "    The number of points along each dimension can be chosen by the optional `res` parameter.\n",
    "    We take each initial value and apply `num_iter` many NR iteration steps to obtain an estimate for a cubic root of unity.\n",
    "    If a given estimate is within a distance of `tol` from a cubic root of unity, we colour it according to which root it is,\n",
    "    reserving a separate fourth colour for estimates which are not within the tolerance distance to any cubic root of unity.\n",
    "    After applying this algorithm to the whole array of initial values, the function returns the array of colour codes.\n",
    "\n",
    "    Parameters\n",
    "    ----------\n",
    "    a : float, optional. Defaults to 1.5\n",
    "        The initial values for the NR method are spaced evenly in the square domain of complex numbers\n",
    "        with real and imaginary parts both in the interval [-a, a]\n",
    "    res : int, optional. Defaults to 300\n",
    "        The resolution (number of rows and columns) of the output array \n",
    "    num_iter : int, optional. Defaults to 50\n",
    "        The number of iterations of the Newton-Raphson step to calculate\n",
    "    tol : float, optional.  Defaults to 1e-12\n",
    "        If, after applying the NR method, the resulting value is within tolerance distance from a cubic root of unity, \n",
    "        we say it has converged to that root and colour it accordingly\n",
    "\n",
    "    Returns\n",
    "    -------\n",
    "    numpy array\n",
    "        The array of colour codes signifying which cubic root of unity the initial value converged to (if any)\n",
    "    \"\"\"\n",
    "    # Create our array of evenly spaced complex inital values within the specified domain\n",
    "    x = y = np.linspace(-a, a, res)\n",
    "    xx, yy = np.meshgrid(x, y)\n",
    "    z = xx + complex(0, 1) * yy\n",
    "    \n",
    "    # Run the NR method for the specified number of iterations\n",
    "    for i in range(num_iter):\n",
    "        z = (z - (z ** 3 - 1) / (3 * z ** 2))\n",
    "        \n",
    "    # Create a Boolean mask array indicating whether the calculated estimate is close to a given root\n",
    "    z1mask = np.abs(z - 1) < tol\n",
    "    z2mask = np.abs(z - complex(-0.5, cmath.sqrt(3)/2)) < tol\n",
    "    z3mask = np.abs(z - complex(-0.5, -cmath.sqrt(3)/2)) < tol\n",
    "    \n",
    "    # Return the final array of colour codes based on the Boolean masks\n",
    "    return 1 * z1mask + 2 * z2mask + 3 * z3mask"
   ]
  },
  {
   "cell_type": "code",
   "execution_count": 16,
   "metadata": {},
   "outputs": [
    {
     "data": {
      "image/png": "[encoded data removed]",
      "text/plain": [
       "<Figure size 432x288 with 1 Axes>"
      ]
     },
     "metadata": {},
     "output_type": "display_data"
    }
   ],
   "source": [
    "import matplotlib.pyplot as plt\n",
    "%matplotlib inline\n",
    "\n",
    "plt.imshow(NRmethod_array_plot())\n",
    "# plt.savefig(\"figure_file_name.png\", dpi=300)"
   ]
  },
  {
   "cell_type": "code",
   "execution_count": null,
   "metadata": {},
   "outputs": [],
   "source": []
  }
 ],
 "metadata": {
  "kernelspec": {
   "display_name": "Python 3",
   "language": "python",
   "name": "python3"
  },
  "language_info": {
   "codemirror_mode": {
    "name": "ipython",
    "version": 3
   },
   "file_extension": ".py",
   "mimetype": "text/x-python",
   "name": "python",
   "nbconvert_exporter": "python",
   "pygments_lexer": "ipython3",
   "version": "3.6.2"
  },
  "toc": {
   "base_numbering": 1,
   "nav_menu": {},
   "number_sections": true,
   "sideBar": true,
   "skip_h1_title": false,
   "title_cell": "Table of Contents",
   "title_sidebar": "Contents",
   "toc_cell": false,
   "toc_position": {},
   "toc_section_display": true,
   "toc_window_display": false
  },
  "varInspector": {
   "cols": {
    "lenName": 16,
    "lenType": 16,
    "lenVar": 40
   },
   "kernels_config": {
    "python": {
     "delete_cmd_postfix": "",
     "delete_cmd_prefix": "del ",
     "library": "var_list.py",
     "varRefreshCmd": "print(var_dic_list())"
    },
    "r": {
     "delete_cmd_postfix": ") ",
     "delete_cmd_prefix": "rm(",
     "library": "var_list.r",
     "varRefreshCmd": "cat(var_dic_list()) "
    }
   },
   "types_to_exclude": [
    "module",
    "function",
    "builtin_function_or_method",
    "instance",
    "_Feature"
   ],
   "window_display": false
  }
 },
 "nbformat": 4,
 "nbformat_minor": 2
}
